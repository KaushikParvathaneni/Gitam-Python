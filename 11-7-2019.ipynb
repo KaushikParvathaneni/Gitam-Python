{
 "cells": [
  {
   "cell_type": "markdown",
   "metadata": {},
   "source": [
    "### standard libraries\n",
    "- file i/o\n",
    "- regular expression\n",
    "- datetime\n",
    "- math(numerical and mathametical)"
   ]
  },
  {
   "cell_type": "markdown",
   "metadata": {},
   "source": [
    "### FILE HANDLING IN PYTHON\n",
    "- File :- Document contaning information resides on the permanent storage\n",
    "- Different types of files :- txt,doc,pdf,csv and etc..\n",
    "- Input -- Keyboard\n",
    "- Output -- File\n",
    "### Modes of the File I/P\n",
    "- 'w' -- This mode is used to file writing\n",
    "\n",
    "-- If the file is not present first it creates the file and write some date to it\n",
    "\n",
    "\n",
    "\n",
    "\n",
    "\n",
    "\n",
    "\n",
    "\n"
   ]
  },
  {
   "cell_type": "code",
   "execution_count": 6,
   "metadata": {},
   "outputs": [
    {
     "name": "stdout",
     "output_type": "stream",
     "text": [
      "file is created and data has written\n"
     ]
    }
   ],
   "source": [
    "# function to create a file and write to the file\n",
    "def createfile(filename):\n",
    "    f = open(filename,'w')\n",
    "    for i in range(10):\n",
    "        f.write('this is %d line \\n' % i)\n",
    "    print(\"file is created and data has written\")\n",
    "    return\n",
    "createfile('file1.txt')"
   ]
  },
  {
   "cell_type": "code",
   "execution_count": 2,
   "metadata": {},
   "outputs": [
    {
     "name": "stdout",
     "output_type": "stream",
     "text": [
      " Volume in drive C has no label.\n",
      " Volume Serial Number is 6C9E-1AEF\n",
      "\n",
      " Directory of C:\\Users\\Sai Maheswar\\python\n",
      "\n",
      "11.07.19  09:33 AM    <DIR>          .\n",
      "11.07.19  09:33 AM    <DIR>          ..\n",
      "11.07.19  09:18 AM    <DIR>          .ipynb_checkpoints\n",
      "11.07.19  09:27 AM             9,100 10-7-2019(Assignment).ipynb\n",
      "11.07.19  09:27 AM            18,067 10-7-2019(Day 9).ipynb\n",
      "11.07.19  09:33 AM             1,600 11-7-2019.ipynb\n",
      "05.07.19  04:33 PM             9,407 5-7-2019.ipynb\n",
      "08.07.19  09:38 AM            10,059 6-7-2019.ipynb\n",
      "08.07.19  05:30 PM            13,128 8-7-2019.ipynb\n",
      "09.07.19  04:48 PM            16,715 9-7-2019.ipynb\n",
      "09.07.19  05:00 PM             2,809 Assignment(9-7-2019).ipynb\n",
      "05.07.19  05:29 PM             6,172 Assignment.ipynb\n",
      "11.07.19  09:32 AM               140 file1.txt\n",
      "              10 File(s)         87,197 bytes\n",
      "               3 Dir(s)  251,160,903,680 bytes free\n"
     ]
    }
   ],
   "source": [
    "ls"
   ]
  },
  {
   "cell_type": "code",
   "execution_count": 8,
   "metadata": {},
   "outputs": [
    {
     "name": "stdout",
     "output_type": "stream",
     "text": [
      "file is created \n"
     ]
    }
   ],
   "source": [
    "def appenddata(filename):\n",
    "    f = open(filename,'w')\n",
    "    for i in range(10):\n",
    "        f.write('this is %d line \\n' % i)\n",
    "    print(\"file is created \")\n",
    "    return\n",
    "appenddata('file2.txt')"
   ]
  },
  {
   "cell_type": "code",
   "execution_count": 34,
   "metadata": {},
   "outputs": [
    {
     "name": "stdout",
     "output_type": "stream",
     "text": [
      "File is created and data has written\n"
     ]
    }
   ],
   "source": [
    "def createfile(filename):\n",
    "    f = open(filename,'w')\n",
    "    f.write('testing...\\n')\n",
    "    print(\"File is created and data has written\")\n",
    "    return\n",
    "createfile('file1.txt')"
   ]
  },
  {
   "cell_type": "code",
   "execution_count": 35,
   "metadata": {},
   "outputs": [
    {
     "name": "stdout",
     "output_type": "stream",
     "text": [
      "file created\n"
     ]
    }
   ],
   "source": [
    "def appenddata(filename):\n",
    "    f=open(filename,'a')\n",
    "    f.write(\"new line 1 \\n\")\n",
    "    f.write(\"new line 2 \\n\")\n",
    "    print(\"file created\")\n",
    "    f.close()\n",
    "    return\n",
    "appenddata('file2.txt')"
   ]
  },
  {
   "cell_type": "code",
   "execution_count": 36,
   "metadata": {},
   "outputs": [
    {
     "name": "stdout",
     "output_type": "stream",
     "text": [
      "this is 0 line \n",
      "this is 1 line \n",
      "this is 2 line \n",
      "this is 3 line \n",
      "this is 4 line \n",
      "this is 5 line \n",
      "this is 6 line \n",
      "this is 7 line \n",
      "this is 8 line \n",
      "this is 9 line \n",
      "new line 1 \n",
      "new line 2 \n",
      "new line 1 \n",
      "new line 2 \n",
      "\n"
     ]
    }
   ],
   "source": [
    "# function to read data\n",
    "def readfile(filename):\n",
    "    f=open(filename,'r')\n",
    "    if f.mode=='r':\n",
    "       x=f.read()\n",
    "       print(x)\n",
    "    f.close()\n",
    "    return\n",
    "readfile('file2.txt')"
   ]
  },
  {
   "cell_type": "code",
   "execution_count": 38,
   "metadata": {},
   "outputs": [
    {
     "name": "stdout",
     "output_type": "stream",
     "text": [
      "enter the file namefile2.txt\n",
      "enter the mode of the filea\n",
      "the data successfully written\n"
     ]
    }
   ],
   "source": [
    "# function to read the file\n",
    "def fileoperations(filename,mode):\n",
    "    with open(filename,mode) as f:\n",
    "        if f.mode == 'r':\n",
    "            data = f.read()\n",
    "            print(data)\n",
    "        elif f.mode == 'a':\n",
    "            f.write('data to the file')\n",
    "            print('the data successfully written')\n",
    "    f.close()\n",
    "    return\n",
    "filename = input('enter the file name')\n",
    "mode = input('enter the mode of the file')\n",
    "fileoperations(filename,mode)"
   ]
  },
  {
   "cell_type": "code",
   "execution_count": 25,
   "metadata": {},
   "outputs": [
    {
     "name": "stdout",
     "output_type": "stream",
     "text": [
      "enter the file name:file2.txt\n",
      "enter the word:this\n"
     ]
    },
    {
     "data": {
      "text/plain": [
       "10"
      ]
     },
     "execution_count": 25,
     "metadata": {},
     "output_type": "execute_result"
    }
   ],
   "source": [
    "# data analysis\n",
    "# word count program\n",
    "def wordcount(filename,word):\n",
    "    with open(filename,'r') as f:\n",
    "        if f.mode == 'r':\n",
    "            x=f.read()\n",
    "            li=x.split() # its splits the string with whitespace\n",
    "        cnt=li.count(word)\n",
    "        return cnt\n",
    "filename=input('enter the file name:')\n",
    "word= input('enter the word:') # which word count you need\n",
    "wordcount(filename,word)\n"
   ]
  },
  {
   "cell_type": "code",
   "execution_count": 29,
   "metadata": {},
   "outputs": [
    {
     "name": "stdout",
     "output_type": "stream",
     "text": [
      "enter the file name:file2.txt\n"
     ]
    },
    {
     "data": {
      "text/plain": [
       "184"
      ]
     },
     "execution_count": 29,
     "metadata": {},
     "output_type": "execute_result"
    }
   ],
   "source": [
    "# character count from the given file\n",
    "def charactercount(filename):\n",
    "    with open(filename,'r') as f:\n",
    "        if f.mode == 'r':\n",
    "            x=f.read()\n",
    "            li=list(x) \n",
    "    return len(li)\n",
    "filename=input('enter the file name:')\n",
    "charactercount(filename)\n",
    "\n"
   ]
  },
  {
   "cell_type": "code",
   "execution_count": 31,
   "metadata": {},
   "outputs": [
    {
     "name": "stdout",
     "output_type": "stream",
     "text": [
      "enter the filename:file2.txt\n"
     ]
    },
    {
     "data": {
      "text/plain": [
       "13"
      ]
     },
     "execution_count": 31,
     "metadata": {},
     "output_type": "execute_result"
    }
   ],
   "source": [
    "# function to find the no of lines in the input file\n",
    "# input -- filename(file2.txt)\n",
    "#output -- no of lines(12)\n",
    "def countoflines(filename):\n",
    "    with open(filename,'r') as f:\n",
    "        if f.mode == 'r':\n",
    "            x=f.read()\n",
    "            li=x.split(\"\\n\")\n",
    "    return len(li)\n",
    "filename=input('enter the filename:')\n",
    "countoflines(filename)"
   ]
  },
  {
   "cell_type": "code",
   "execution_count": 40,
   "metadata": {},
   "outputs": [
    {
     "name": "stdout",
     "output_type": "stream",
     "text": [
      "enter the filename:file2.txt\n"
     ]
    },
    {
     "data": {
      "text/plain": [
       "'uppercase = 0,lowecase = 141'"
      ]
     },
     "execution_count": 40,
     "metadata": {},
     "output_type": "execute_result"
    }
   ],
   "source": [
    "# function to print the upper and lower characters\n",
    "def casecount(filename):\n",
    "    cntupper = 0\n",
    "    cntlower = 0\n",
    "    with open(filename,'r') as f:\n",
    "        if f.mode=='r':\n",
    "            x=f.read()\n",
    "            li=list(x)\n",
    "    for i in li:\n",
    "        if i.isupper():\n",
    "            cntupper += 1 #cntupper = cntupper + 1\n",
    "        elif i.islower():\n",
    "            cntlower += 1 #cntlower = cntlower + 1\n",
    "    output = 'uppercase = {0},lowecase = {1}'.format(cntupper,cntlower)\n",
    "    return output\n",
    "filename=input('enter the filename:')\n",
    "casecount(filename)"
   ]
  },
  {
   "cell_type": "markdown",
   "metadata": {},
   "source": [
    "### math,random,os\n",
    "- os package it contains the certains methods which works with os\n",
    "- older version python -- os.listdir()\n",
    "- new version python   -- os.scandir() and pathlib.path()"
   ]
  },
  {
   "cell_type": "code",
   "execution_count": 2,
   "metadata": {},
   "outputs": [
    {
     "name": "stdout",
     "output_type": "stream",
     "text": [
      "C:\\Users\\Sai Maheswar\n"
     ]
    }
   ],
   "source": [
    "cd ..\n"
   ]
  },
  {
   "cell_type": "code",
   "execution_count": 3,
   "metadata": {},
   "outputs": [
    {
     "name": "stdout",
     "output_type": "stream",
     "text": [
      " Volume in drive C has no label.\n",
      " Volume Serial Number is 6C9E-1AEF\n",
      "\n",
      " Directory of C:\\Users\\Sai Maheswar\n",
      "\n",
      "05.07.19  11:42 AM    <DIR>          .\n",
      "05.07.19  11:42 AM    <DIR>          ..\n",
      "22.06.19  11:09 AM    <DIR>          .anaconda\n",
      "05.07.19  12:55 PM             2,430 .bash_history\n",
      "11.07.19  12:54 PM    <DIR>          .conda\n",
      "11.07.19  09:12 AM                43 .condarc\n",
      "29.06.19  10:44 AM    <DIR>          .ipynb_checkpoints\n",
      "22.06.19  12:12 PM    <DIR>          .ipython\n",
      "25.06.19  10:43 AM    <DIR>          .jupyter\n",
      "15.06.19  09:36 PM    <DIR>          3D Objects\n",
      "22.06.19  10:52 AM    <DIR>          Anaconda3\n",
      "15.06.19  09:36 PM    <DIR>          Contacts\n",
      "04.07.19  10:11 AM    <DIR>          Desktop\n",
      "27.06.19  12:05 PM    <DIR>          Documents\n",
      "11.07.19  10:03 AM    <DIR>          Downloads\n",
      "15.06.19  09:36 PM    <DIR>          Favorites\n",
      "15.06.19  09:36 PM    <DIR>          Links\n",
      "15.06.19  09:36 PM    <DIR>          Music\n",
      "06.07.19  09:45 PM    <DIR>          OneDrive\n",
      "15.06.19  09:38 PM    <DIR>          Pictures\n",
      "11.07.19  12:48 PM    <DIR>          python\n",
      "15.06.19  09:36 PM    <DIR>          Saved Games\n",
      "15.06.19  09:37 PM    <DIR>          Searches\n",
      "25.06.19  02:50 PM             2,422 Untitled.ipynb\n",
      "26.06.19  03:19 PM             4,813 Untitled1.ipynb\n",
      "29.06.19  10:42 AM                72 Untitled2.ipynb\n",
      "29.06.19  10:43 AM                72 Untitled3.ipynb\n",
      "29.06.19  11:18 AM            16,547 Untitled4.ipynb\n",
      "05.07.19  11:20 PM    <DIR>          Videos\n",
      "               7 File(s)         26,399 bytes\n",
      "              22 Dir(s)  250,847,592,448 bytes free\n"
     ]
    }
   ],
   "source": [
    "ls\n"
   ]
  },
  {
   "cell_type": "code",
   "execution_count": 2,
   "metadata": {},
   "outputs": [
    {
     "name": "stdout",
     "output_type": "stream",
     "text": [
      "C:\\Users\\Sai Maheswar\n"
     ]
    }
   ],
   "source": [
    "cd .."
   ]
  },
  {
   "cell_type": "code",
   "execution_count": 3,
   "metadata": {},
   "outputs": [
    {
     "name": "stdout",
     "output_type": "stream",
     "text": [
      "C:\\Users\\Sai Maheswar\\Desktop\\problemsolvingandprogramming\\Git\n"
     ]
    }
   ],
   "source": [
    "cd Desktop/problemsolvingandprogramming/Git\n"
   ]
  },
  {
   "cell_type": "code",
   "execution_count": 4,
   "metadata": {},
   "outputs": [
    {
     "name": "stdout",
     "output_type": "stream",
     "text": [
      " Volume in drive C has no label.\n",
      " Volume Serial Number is 6C9E-1AEF\n",
      "\n",
      " Directory of C:\\Users\\Sai Maheswar\\Desktop\\problemsolvingandprogramming\\Git\n",
      "\n",
      "05.07.19  09:47 AM    <DIR>          .\n",
      "05.07.19  09:47 AM    <DIR>          ..\n",
      "04.07.19  02:56 PM    <DIR>          221810308036\n",
      "05.07.19  09:45 AM                38 data.txt\n",
      "04.07.19  10:25 AM                 0 file\n",
      "04.07.19  12:23 PM               205 file.txt\n",
      "05.07.19  09:47 AM    <DIR>          Gitam-Python\n",
      "               3 File(s)            243 bytes\n",
      "               4 Dir(s)  250,822,647,808 bytes free\n"
     ]
    }
   ],
   "source": [
    "ls\n"
   ]
  },
  {
   "cell_type": "code",
   "execution_count": 5,
   "metadata": {},
   "outputs": [
    {
     "name": "stdout",
     "output_type": "stream",
     "text": [
      "C:\\Users\\Sai Maheswar\\Desktop\\problemsolvingandprogramming\n"
     ]
    }
   ],
   "source": [
    "cd .."
   ]
  },
  {
   "cell_type": "code",
   "execution_count": 10,
   "metadata": {},
   "outputs": [
    {
     "name": "stdout",
     "output_type": "stream",
     "text": [
      " Volume in drive C has no label.\n",
      " Volume Serial Number is 6C9E-1AEF\n",
      "\n",
      " Directory of C:\\Users\\Sai Maheswar\\Desktop\\problemsolvingandprogramming\n",
      "\n",
      "04.07.19  10:12 AM    <DIR>          .\n",
      "04.07.19  10:12 AM    <DIR>          ..\n",
      "05.07.19  09:47 AM    <DIR>          git\n",
      "               0 File(s)              0 bytes\n",
      "               3 Dir(s)  250,820,018,176 bytes free\n"
     ]
    }
   ],
   "source": [
    "ls"
   ]
  },
  {
   "cell_type": "markdown",
   "metadata": {},
   "source": [
    "### listing all files in directory\n"
   ]
  },
  {
   "cell_type": "code",
   "execution_count": 11,
   "metadata": {},
   "outputs": [
    {
     "name": "stdout",
     "output_type": "stream",
     "text": [
      "data.txt\n",
      "file\n",
      "file.txt\n"
     ]
    }
   ],
   "source": [
    "import os\n",
    "dirpath = \"git/\"\n",
    "for i in os.listdir(dirpath):\n",
    "    if os.path.isfile(os.path.join(dirpath,i)):\n",
    "        print(i)"
   ]
  },
  {
   "cell_type": "code",
   "execution_count": 8,
   "metadata": {},
   "outputs": [
    {
     "data": {
      "text/plain": [
       "'C:\\\\Users\\\\Sai Maheswar\\\\Desktop\\\\problemsolvingandprogramming'"
      ]
     },
     "execution_count": 8,
     "metadata": {},
     "output_type": "execute_result"
    }
   ],
   "source": [
    "pwd"
   ]
  },
  {
   "cell_type": "code",
   "execution_count": 9,
   "metadata": {},
   "outputs": [
    {
     "name": "stdout",
     "output_type": "stream",
     "text": [
      "data.txt\n",
      "file\n",
      "file.txt\n"
     ]
    }
   ],
   "source": [
    "dirpath = 'git/'\n",
    "with os.scandir(dirpath) as f:\n",
    "    for i in f:\n",
    "        if i.is_file():\n",
    "            print(i.name)"
   ]
  },
  {
   "cell_type": "markdown",
   "metadata": {},
   "source": [
    "### listing subdirectories\n"
   ]
  },
  {
   "cell_type": "code",
   "execution_count": 13,
   "metadata": {},
   "outputs": [
    {
     "name": "stdout",
     "output_type": "stream",
     "text": [
      ".git\n",
      "221810308036\n",
      "Gitam-Python\n"
     ]
    }
   ],
   "source": [
    "dirpath = 'git/'\n",
    "for i in os.listdir(dirpath):\n",
    "    if os.path.isdir(os.path.join(dirpath,i)):\n",
    "      print(i)\n"
   ]
  },
  {
   "cell_type": "code",
   "execution_count": 29,
   "metadata": {},
   "outputs": [
    {
     "name": "stdout",
     "output_type": "stream",
     "text": [
      ".git\n",
      "221810308036\n",
      "Gitam-Python\n"
     ]
    }
   ],
   "source": [
    "from pathlib import Path\n",
    "dirpath = Path('git/')\n",
    "for i in dirpath.iterdir():\n",
    "    if i.is_dir():\n",
    "        print(i.name)"
   ]
  },
  {
   "cell_type": "markdown",
   "metadata": {},
   "source": [
    "### creating  a single directory\n"
   ]
  },
  {
   "cell_type": "code",
   "execution_count": 28,
   "metadata": {},
   "outputs": [],
   "source": [
    "import os\n",
    "os.mkdir('SingleDirectory1')\n"
   ]
  },
  {
   "cell_type": "code",
   "execution_count": 30,
   "metadata": {},
   "outputs": [],
   "source": [
    "import pathlib\n",
    "p=pathlib.Path('testfolder')\n",
    "p.mkdir()"
   ]
  },
  {
   "cell_type": "code",
   "execution_count": 31,
   "metadata": {},
   "outputs": [
    {
     "name": "stdout",
     "output_type": "stream",
     "text": [
      " Volume in drive C has no label.\n",
      " Volume Serial Number is 6C9E-1AEF\n",
      "\n",
      " Directory of C:\\Users\\Sai Maheswar\\Desktop\\problemsolvingandprogramming\n",
      "\n",
      "11.07.19  02:53 PM    <DIR>          .\n",
      "11.07.19  02:53 PM    <DIR>          ..\n",
      "05.07.19  09:47 AM    <DIR>          git\n",
      "11.07.19  02:49 PM    <DIR>          single directory\n",
      "11.07.19  02:50 PM    <DIR>          SingleDirectory\n",
      "11.07.19  02:50 PM    <DIR>          SingleDirectory1\n",
      "11.07.19  02:53 PM    <DIR>          testfolder\n",
      "               0 File(s)              0 bytes\n",
      "               7 Dir(s)  250,818,019,328 bytes free\n"
     ]
    }
   ],
   "source": [
    "ls\n"
   ]
  },
  {
   "cell_type": "markdown",
   "metadata": {},
   "source": [
    "## creating multiple directories\n"
   ]
  },
  {
   "cell_type": "code",
   "execution_count": 32,
   "metadata": {},
   "outputs": [],
   "source": [
    "import os\n",
    "os.makedirs('2019/july/11')"
   ]
  },
  {
   "cell_type": "code",
   "execution_count": 33,
   "metadata": {},
   "outputs": [
    {
     "name": "stdout",
     "output_type": "stream",
     "text": [
      " Volume in drive C has no label.\n",
      " Volume Serial Number is 6C9E-1AEF\n",
      "\n",
      " Directory of C:\\Users\\Sai Maheswar\\Desktop\\problemsolvingandprogramming\n",
      "\n",
      "11.07.19  03:02 PM    <DIR>          .\n",
      "11.07.19  03:02 PM    <DIR>          ..\n",
      "11.07.19  03:02 PM    <DIR>          2019\n",
      "05.07.19  09:47 AM    <DIR>          git\n",
      "11.07.19  02:49 PM    <DIR>          single directory\n",
      "11.07.19  02:50 PM    <DIR>          SingleDirectory\n",
      "11.07.19  02:50 PM    <DIR>          SingleDirectory1\n",
      "11.07.19  02:53 PM    <DIR>          testfolder\n",
      "               0 File(s)              0 bytes\n",
      "               8 Dir(s)  250,816,290,816 bytes free\n"
     ]
    }
   ],
   "source": [
    "ls\n"
   ]
  },
  {
   "cell_type": "code",
   "execution_count": 2,
   "metadata": {},
   "outputs": [
    {
     "ename": "FileNotFoundError",
     "evalue": "[WinError 3] The system cannot find the path specified: 'git/'",
     "output_type": "error",
     "traceback": [
      "\u001b[1;31m---------------------------------------------------------------------------\u001b[0m",
      "\u001b[1;31mFileNotFoundError\u001b[0m                         Traceback (most recent call last)",
      "\u001b[1;32m<ipython-input-2-33b4b60b3768>\u001b[0m in \u001b[0;36m<module>\u001b[1;34m\u001b[0m\n\u001b[0;32m      1\u001b[0m \u001b[1;32mimport\u001b[0m \u001b[0mos\u001b[0m\u001b[1;33m\u001b[0m\u001b[1;33m\u001b[0m\u001b[0m\n\u001b[0;32m      2\u001b[0m \u001b[0mdirPath\u001b[0m \u001b[1;33m=\u001b[0m \u001b[1;34m'git/'\u001b[0m\u001b[1;33m\u001b[0m\u001b[1;33m\u001b[0m\u001b[0m\n\u001b[1;32m----> 3\u001b[1;33m \u001b[1;32mfor\u001b[0m \u001b[0mf_name\u001b[0m \u001b[1;32min\u001b[0m \u001b[0mos\u001b[0m\u001b[1;33m.\u001b[0m\u001b[0mlistdir\u001b[0m\u001b[1;33m(\u001b[0m\u001b[0mdirPath\u001b[0m\u001b[1;33m)\u001b[0m\u001b[1;33m:\u001b[0m\u001b[1;33m\u001b[0m\u001b[1;33m\u001b[0m\u001b[0m\n\u001b[0m\u001b[0;32m      4\u001b[0m     \u001b[1;32mif\u001b[0m \u001b[0mf_name\u001b[0m\u001b[1;33m.\u001b[0m\u001b[0mendswith\u001b[0m\u001b[1;33m(\u001b[0m\u001b[1;34m'0'\u001b[0m\u001b[1;33m)\u001b[0m\u001b[1;33m:\u001b[0m\u001b[1;33m\u001b[0m\u001b[1;33m\u001b[0m\u001b[0m\n\u001b[0;32m      5\u001b[0m         \u001b[0mprint\u001b[0m\u001b[1;33m(\u001b[0m\u001b[0mf_name\u001b[0m\u001b[1;33m)\u001b[0m\u001b[1;33m\u001b[0m\u001b[1;33m\u001b[0m\u001b[0m\n",
      "\u001b[1;31mFileNotFoundError\u001b[0m: [WinError 3] The system cannot find the path specified: 'git/'"
     ]
    }
   ],
   "source": [
    "import os\n",
    "dirPath = 'git/'\n",
    "for f_name in os.listdir(dirPath):\n",
    "    if f_name.endswith('0'):\n",
    "        print(f_name)"
   ]
  },
  {
   "cell_type": "markdown",
   "metadata": {},
   "source": [
    "### deleting files  and directories"
   ]
  },
  {
   "cell_type": "code",
   "execution_count": 3,
   "metadata": {},
   "outputs": [
    {
     "name": "stdout",
     "output_type": "stream",
     "text": [
      " Volume in drive C has no label.\n",
      " Volume Serial Number is 6C9E-1AEF\n",
      "\n",
      " Directory of C:\\Users\\Sai Maheswar\\python\n",
      "\n",
      "11.07.19  03:12 PM    <DIR>          .\n",
      "11.07.19  03:12 PM    <DIR>          ..\n",
      "11.07.19  09:18 AM    <DIR>          .ipynb_checkpoints\n",
      "11.07.19  10:09 AM            10,953 10-7-2019(Assignment).ipynb\n",
      "11.07.19  10:09 AM            18,067 10-7-2019(Day 9).ipynb\n",
      "11.07.19  03:12 PM            22,260 11-7-2019.ipynb\n",
      "05.07.19  04:33 PM             9,407 5-7-2019.ipynb\n",
      "08.07.19  09:38 AM            10,059 6-7-2019.ipynb\n",
      "08.07.19  05:30 PM            13,128 8-7-2019.ipynb\n",
      "09.07.19  04:48 PM            16,715 9-7-2019.ipynb\n",
      "09.07.19  05:00 PM             2,809 Assignment(9-7-2019).ipynb\n",
      "05.07.19  05:29 PM             6,172 Assignment.ipynb\n",
      "11.07.19  10:30 AM                16 data.txt\n",
      "11.07.19  12:14 PM                12 file1.txt\n",
      "11.07.19  12:15 PM               238 file2.txt\n",
      "              12 File(s)        109,836 bytes\n",
      "               3 Dir(s)  250,816,278,528 bytes free\n"
     ]
    }
   ],
   "source": [
    "ls"
   ]
  },
  {
   "cell_type": "markdown",
   "metadata": {},
   "source": [
    "### regular expressions\n",
    "- used to specific pattern matching\n",
    "- symbolic notations of patterns\n",
    "- patterns(re) represent set of values"
   ]
  }
 ],
 "metadata": {
  "kernelspec": {
   "display_name": "Python 3",
   "language": "python",
   "name": "python3"
  },
  "language_info": {
   "codemirror_mode": {
    "name": "ipython",
    "version": 3
   },
   "file_extension": ".py",
   "mimetype": "text/x-python",
   "name": "python",
   "nbconvert_exporter": "python",
   "pygments_lexer": "ipython3",
   "version": "3.7.3"
  }
 },
 "nbformat": 4,
 "nbformat_minor": 2
}
