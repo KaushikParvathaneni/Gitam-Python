{
 "cells": [
  {
   "cell_type": "code",
   "execution_count": 2,
   "metadata": {},
   "outputs": [
    {
     "name": "stdout",
     "output_type": "stream",
     "text": [
      "1234612"
     ]
    }
   ],
   "source": [
    "# find the factors of a given number\n",
    "# 12 --> 1 2 3 4 6 12\n",
    "def factorsList(n):\n",
    "    for i in range(1,n+1):\n",
    "        if n % i == 0:\n",
    "            print(i,end=\"\")\n",
    "    return\n",
    "factorsList(12)"
   ]
  },
  {
   "cell_type": "code",
   "execution_count": 3,
   "metadata": {},
   "outputs": [
    {
     "data": {
      "text/plain": [
       "True"
      ]
     },
     "execution_count": 3,
     "metadata": {},
     "output_type": "execute_result"
    }
   ],
   "source": [
    "# given number is prime or not\n",
    "def isPrime(n):\n",
    "    flag = True\n",
    "    for i in range (2,n//2+1):\n",
    "        if n % i == 0:\n",
    "            flag = False\n",
    "            return flag\n",
    "    return flag\n",
    "isPrime(11)"
   ]
  },
  {
   "cell_type": "code",
   "execution_count": 6,
   "metadata": {},
   "outputs": [
    {
     "data": {
      "text/plain": [
       "4"
      ]
     },
     "execution_count": 6,
     "metadata": {},
     "output_type": "execute_result"
    }
   ],
   "source": [
    "# function to find prime numbers count from 1 to N\n",
    "# 10 -- 4(2,3,5,7)\n",
    "def primeCount(n):\n",
    "   cnt = 0\n",
    "   for a in range(2,n+1):\n",
    "       k = 0\n",
    "       for i in range(2,a//2+1):\n",
    "           if a % i == 0:\n",
    "               k = k + 1\n",
    "           if(k<=0):\n",
    "               cnt = cnt + 1\n",
    "   return cnt\n",
    "primeCount(10)\n"
   ]
  },
  {
   "cell_type": "code",
   "execution_count": 8,
   "metadata": {},
   "outputs": [
    {
     "name": "stdout",
     "output_type": "stream",
     "text": [
      "Yes\n",
      "No\n"
     ]
    }
   ],
   "source": [
    "# individual digit factorial sum is same as original number\n",
    "# example :-\n",
    "# 145 -- Yes(5! + 4! + 1! = 145)\n",
    "# 123 -- N0 (3! + 2! + 1! = 9  )\n",
    "def factorial(n):\n",
    "    fact = 1\n",
    "    for i in range(2,n+1):\n",
    "        fact *= i\n",
    "    return fact\n",
    "def digitalFactSum(n):\n",
    "    sum = 0\n",
    "    buffer = n\n",
    "    while n != 0:\n",
    "        r = n % 10\n",
    "        sum += factorial(r)\n",
    "        n = n // 10\n",
    "    if sum == buffer:\n",
    "        return \"Yes\"\n",
    "    else:\n",
    "        return \"No\"\n",
    "    return\n",
    "print(digitalFactSum(145))\n",
    "print(digitalFactSum(123))"
   ]
  },
  {
   "cell_type": "code",
   "execution_count": 14,
   "metadata": {},
   "outputs": [
    {
     "name": "stdout",
     "output_type": "stream",
     "text": [
      "Enter starting range:11\n",
      "Enter ending range:100\n",
      "11 22 33 44 55 66 77 88 99 "
     ]
    }
   ],
   "source": [
    "# function to return the count of palindrome number between two limits\n",
    "# input :1 10\n",
    "# output:9(1,,2,3,4,5,6,7,8,9)\n",
    "# input:11 100\n",
    "# output:9(11,22,33,44,55,66,77,88,99)\n",
    "def isPalindrome(n):\n",
    "    rev = 0\n",
    "    temp = n\n",
    "    while n > 0 : \n",
    "        r = n % 10\n",
    "        rev = rev * 10 + r\n",
    "        n //= 10\n",
    "    if rev == temp:\n",
    "        print(rev,end=\" \")\n",
    "def Range(a,b):\n",
    "    for i in range(a,b+1,1):\n",
    "        isPalindrome(i)\n",
    "def main():\n",
    "    a= int(input(\"Enter starting range:\"))\n",
    "    b= int(input(\"Enter ending range:\"))\n",
    "    Range(a,b)\n",
    "\n",
    "if __name__ == \"__main__\":\n",
    "    main()"
   ]
  },
  {
   "cell_type": "code",
   "execution_count": 23,
   "metadata": {},
   "outputs": [
    {
     "name": "stdout",
     "output_type": "stream",
     "text": [
      "6 \n",
      "6 28 496 8128 \n"
     ]
    }
   ],
   "source": [
    "# Function to generate the perfect numbers in a given range\n",
    "# Perfect number: Sum of all its factors same as original number\n",
    "def factorsList(n):\n",
    "    sum=0\n",
    "    for i in range(1,n//2+1):\n",
    "        if n%i==0:\n",
    "            sum=sum+i\n",
    "    return sum\n",
    "def isPerfect(n):\n",
    "    if factorsList(n)==n:\n",
    "        return True\n",
    "    return False\n",
    "def generatePerfect(lb,ub):\n",
    "    for x in range(lb,ub+1):\n",
    "        if isPerfect(x):\n",
    "            print(x,end=\" \")\n",
    "    print()\n",
    "    return\n",
    "generatePerfect(1,10)\n",
    "generatePerfect(1,10000)\n"
   ]
  },
  {
   "cell_type": "markdown",
   "metadata": {},
   "source": [
    "### programming in python(strings)\n",
    "- strings\n",
    "- string slicings\n",
    "- fundamental programming with string in python"
   ]
  },
  {
   "cell_type": "code",
   "execution_count": 26,
   "metadata": {},
   "outputs": [
    {
     "name": "stdout",
     "output_type": "stream",
     "text": [
      "p\n",
      "y\n",
      "n\n",
      "n\n"
     ]
    }
   ],
   "source": [
    "s='python'\n",
    "print(s[0]) # access thje first character\n",
    "print(s[1]) # access thje second character\n",
    "print(s[5]) # last character\n",
    "print(s[len(s)-1])"
   ]
  },
  {
   "cell_type": "code",
   "execution_count": 27,
   "metadata": {},
   "outputs": [
    {
     "name": "stdout",
     "output_type": "stream",
     "text": [
      "n\n",
      "o\n",
      "py\n",
      "py\n",
      "hon\n",
      "thon\n"
     ]
    }
   ],
   "source": [
    "s='python'\n",
    "print(s[-1]) # last character\n",
    "print(s[-2]) # last second\n",
    "print(s[0:2])\n",
    "print(s[:2])\n",
    "print(s[-3:])\n",
    "print(s[2:])"
   ]
  },
  {
   "cell_type": "code",
   "execution_count": 29,
   "metadata": {},
   "outputs": [
    {
     "name": "stdout",
     "output_type": "stream",
     "text": [
      "ytho\n",
      "h\n",
      "nohtyp\n",
      "no\n",
      "pto\n",
      "ph\n"
     ]
    }
   ],
   "source": [
    "s1='python'\n",
    "print(s1[1:-1]) # Printing all characters except first and last\n",
    "print(s1[len(s1)//2]) # Print the middle character of the string\n",
    "print(s1[-1::-1]) # Reverse of the string\n",
    "print(s1[-1:-3:-1]) # Access the last two characters in reverse order\n",
    "# Access the alternate characters\n",
    "print(s1[::2]) # Two characters\n",
    "print(s1[::3]) # Three characters"
   ]
  },
  {
   "cell_type": "code",
   "execution_count": 30,
   "metadata": {},
   "outputs": [
    {
     "data": {
      "text/plain": [
       "'gnimmargorP'"
      ]
     },
     "execution_count": 30,
     "metadata": {},
     "output_type": "execute_result"
    }
   ],
   "source": [
    "def reverseString (str):\n",
    "    return str[-1::-1]          # :: --> INDICATES THE SLICING OPTION\n",
    "reverseString(\"Programming\")"
   ]
  },
  {
   "cell_type": "code",
   "execution_count": 31,
   "metadata": {},
   "outputs": [
    {
     "name": "stdout",
     "output_type": "stream",
     "text": [
      "False\n",
      "True\n"
     ]
    }
   ],
   "source": [
    "def isPalindrome(str):\n",
    "    if str == str[::-1]:\n",
    "        return True\n",
    "    else :\n",
    "        return False\n",
    "print(isPalindrome(\"Python\"))\n",
    "print(isPalindrome(\"ganag\"))"
   ]
  },
  {
   "cell_type": "code",
   "execution_count": 32,
   "metadata": {},
   "outputs": [
    {
     "name": "stdout",
     "output_type": "stream",
     "text": [
      "PT"
     ]
    }
   ],
   "source": [
    "# Ascii\n",
    "# A-Z 65-90\n",
    "# a-z 97-122\n",
    "# 0-9 48-57\n",
    "# space 32\n",
    "def printUpper(x):\n",
    "    for i in range(len(x)):\n",
    "        if ord(x[i]) >=65 and ord(x[i])<=90:\n",
    "            print(x[i],end=\"\")\n",
    "    return\n",
    "printUpper(\"PyThon\")"
   ]
  },
  {
   "cell_type": "code",
   "execution_count": 33,
   "metadata": {},
   "outputs": [
    {
     "data": {
      "text/plain": [
       "65"
      ]
     },
     "execution_count": 33,
     "metadata": {},
     "output_type": "execute_result"
    }
   ],
   "source": [
    "ord('A')"
   ]
  },
  {
   "cell_type": "code",
   "execution_count": null,
   "metadata": {},
   "outputs": [],
   "source": [
    "# Function to print \"Python\" if the count of\n",
    "# upper and lower case is same\n",
    "# print \"programming\" if not  same\n",
    "# example :PyThOn--3 P T O (upper case)-- same count\n",
    "                   3 y h n (lower case)\n",
    "PytHon -- P H(2)\n",
    "       -- y t o n(4)\n",
    "\n"
   ]
  },
  {
   "cell_type": "code",
   "execution_count": 36,
   "metadata": {},
   "outputs": [
    {
     "data": {
      "text/plain": [
       "'programming'"
      ]
     },
     "execution_count": 36,
     "metadata": {},
     "output_type": "execute_result"
    }
   ],
   "source": [
    "# function to print \"samecount\" if the count of\n",
    "# upper and lower case is same\n",
    "# print \"programming \"\n",
    "def findcount(str):\n",
    "    cntUpper=0\n",
    "    cntLower=0\n",
    "    for x in range(len(str)):\n",
    "        if ord(str[x])>=65 and ord(str[x])<90:\n",
    "            cntUpper=cntUpper+1\n",
    "        elif ord(str[x])>=97 and ord(str[x])<=122:\n",
    "            cntLower=cntLower+1\n",
    "    if cntUpper==cntLower:\n",
    "        return \"Samecount\"\n",
    "    else:\n",
    "        return \"programming\"\n",
    "    return\n",
    "findcount('PyThOn')\n",
    "findcount('PYTHon')"
   ]
  },
  {
   "cell_type": "code",
   "execution_count": 37,
   "metadata": {},
   "outputs": [
    {
     "data": {
      "text/plain": [
       "26"
      ]
     },
     "execution_count": 37,
     "metadata": {},
     "output_type": "execute_result"
    }
   ],
   "source": [
    "# function to return the sum of digits in a given string\n",
    "# example:\n",
    "# input: Appli1cat8ion89\n",
    "# output:26(1+8+8+9)\n",
    "def sumofDigits(str):\n",
    "    sum=0\n",
    "    for x in range(len(str)):\n",
    "        if ord(str[x])>= 48 and ord(str[x]) <=57:\n",
    "            sum=sum+(ord(str[x])-48)\n",
    "    return sum\n",
    "sumofDigits('Appli1cat8ion89')"
   ]
  },
  {
   "cell_type": "code",
   "execution_count": 38,
   "metadata": {},
   "outputs": [
    {
     "data": {
      "text/plain": [
       "17"
      ]
     },
     "execution_count": 38,
     "metadata": {},
     "output_type": "execute_result"
    }
   ],
   "source": [
    "def sumofDigits(str):\n",
    "    sum=0\n",
    "    for x in range(len(str)):\n",
    "        if ord(str[x])>= 48 and ord(str[x]) <=56:\n",
    "            sum=sum+(ord(str[x])-48)\n",
    "    return sum\n",
    "sumofDigits('Appli1cat8ion89')"
   ]
  },
  {
   "cell_type": "code",
   "execution_count": 42,
   "metadata": {},
   "outputs": [
    {
     "data": {
      "text/plain": [
       "16"
      ]
     },
     "execution_count": 42,
     "metadata": {},
     "output_type": "execute_result"
    }
   ],
   "source": [
    "def sumofDigits(str):\n",
    "    sum=0\n",
    "    for x in range(len(str)):\n",
    "        if ord(str[x])>= 48 and ord(str[x]) <=57:\n",
    "            if (ord(str[x])-48)%2 ==0:\n",
    "                sum=sum+(ord(str[x])-48)\n",
    "    return sum\n",
    "sumofDigits('Appli1cat8ion89')"
   ]
  },
  {
   "cell_type": "code",
   "execution_count": 5,
   "metadata": {},
   "outputs": [
    {
     "ename": "IndentationError",
     "evalue": "unindent does not match any outer indentation level (<tokenize>, line 17)",
     "output_type": "error",
     "traceback": [
      "\u001b[1;36m  File \u001b[1;32m\"<tokenize>\"\u001b[1;36m, line \u001b[1;32m17\u001b[0m\n\u001b[1;33m    if spaceCnt ==2:\u001b[0m\n\u001b[1;37m    ^\u001b[0m\n\u001b[1;31mIndentationError\u001b[0m\u001b[1;31m:\u001b[0m unindent does not match any outer indentation level\n"
     ]
    }
   ],
   "source": [
    "#function to print the specific word in Upper case\n",
    "#example:\n",
    "#input:Python Made Easy\n",
    "#output:Made\n",
    "#input:Learn Python Programming\n",
    "#output:PYTHON\n",
    "def wordUpperCase(s):\n",
    "spaceCnt = 0\n",
    " for x in range(len(s)):\n",
    "        if ord(s[x])==32:\n",
    "        spaceCnt += 1 #spaceCnt = spaceCnt + 1\n",
    "        if spaceCnt == 1:\n",
    "        if ord(s[x])>=65 and ord(s[x])<=90:\n",
    "        print(s[x],end=\"\")\n",
    "        elif ord(s[x])>=97 and ord(s[x]) <=122:\n",
    "        print(chr(ord(s[x])-32),end=\"\")\n",
    "    if spaceCnt ==2:\n",
    "        return\n",
    "wordUpperCase(\"Python Made Easy\")"
   ]
  },
  {
   "cell_type": "code",
   "execution_count": null,
   "metadata": {},
   "outputs": [],
   "source": []
  }
 ],
 "metadata": {
  "kernelspec": {
   "display_name": "Python 3",
   "language": "python",
   "name": "python3"
  },
  "language_info": {
   "codemirror_mode": {
    "name": "ipython",
    "version": 3
   },
   "file_extension": ".py",
   "mimetype": "text/x-python",
   "name": "python",
   "nbconvert_exporter": "python",
   "pygments_lexer": "ipython3",
   "version": "3.7.3"
  }
 },
 "nbformat": 4,
 "nbformat_minor": 2
}
