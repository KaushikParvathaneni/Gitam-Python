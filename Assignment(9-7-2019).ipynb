{
 "cells": [
  {
   "cell_type": "code",
   "execution_count": 1,
   "metadata": {},
   "outputs": [
    {
     "data": {
      "text/plain": [
       "14569"
      ]
     },
     "execution_count": 1,
     "metadata": {},
     "output_type": "execute_result"
    }
   ],
   "source": [
    "# 1. [1,4,5,6,9] - 14569\n",
    "def fun(li):\n",
    "    s=0\n",
    "    for i in range(len(li)):\n",
    "        s=(s+li[i])*10\n",
    "    return s//10\n",
    "li=[1,4,5,6,9]\n",
    "fun(li)"
   ]
  },
  {
   "cell_type": "code",
   "execution_count": 2,
   "metadata": {},
   "outputs": [
    {
     "name": "stdout",
     "output_type": "stream",
     "text": [
      "624"
     ]
    }
   ],
   "source": [
    "# 2. [1,4,5,6,9]  - 46(Consider only even numbers from list)\n",
    "def lis(li):\n",
    "    for x in range(len(li)):\n",
    "        if li[x]%2==0:\n",
    "            print(li[x],end=\"\")\n",
    "    return\n",
    "li=[1,5,6,9,5,3,2,4]\n",
    "lis(li)"
   ]
  },
  {
   "cell_type": "code",
   "execution_count": 3,
   "metadata": {},
   "outputs": [
    {
     "data": {
      "text/plain": [
       "[1, 5, 36, 9, 5, 3, 4, 16]"
      ]
     },
     "execution_count": 3,
     "metadata": {},
     "output_type": "execute_result"
    }
   ],
   "source": [
    "# 3. [1,2,3,4,5] - [1,4,3,16,5] (Consider only even number and square of it)\n",
    "def lis(li):\n",
    "    for x in range(len(li)):\n",
    "        if li[x]%2==0:\n",
    "            li[x]=li[x]*li[x]\n",
    "    return li\n",
    "li=[1,5,6,9,5,3,2,4]\n",
    "lis(li)"
   ]
  },
  {
   "cell_type": "code",
   "execution_count": 4,
   "metadata": {},
   "outputs": [
    {
     "data": {
      "text/plain": [
       "[15, 34, 31, 28, 4]"
      ]
     },
     "execution_count": 4,
     "metadata": {},
     "output_type": "execute_result"
    }
   ],
   "source": [
    "# 4. [15,19,12,16,4] - [15,34,31,28,4] (Need to add previous number to current number)\n",
    "def lis(li):\n",
    "    l2=[]\n",
    "    for x in range(len(li)):\n",
    "        if x==0 or x==len(li)-1:\n",
    "            l2.append(li[x])\n",
    "        else:\n",
    "            l2.append(li[x-1]+li[x])\n",
    "    return l2\n",
    "li=[15,19,12,16,4]\n",
    "lis(li)"
   ]
  },
  {
   "cell_type": "code",
   "execution_count": null,
   "metadata": {},
   "outputs": [],
   "source": []
  }
 ],
 "metadata": {
  "kernelspec": {
   "display_name": "Python 3",
   "language": "python",
   "name": "python3"
  },
  "language_info": {
   "codemirror_mode": {
    "name": "ipython",
    "version": 3
   },
   "file_extension": ".py",
   "mimetype": "text/x-python",
   "name": "python",
   "nbconvert_exporter": "python",
   "pygments_lexer": "ipython3",
   "version": "3.7.3"
  }
 },
 "nbformat": 4,
 "nbformat_minor": 2
}
