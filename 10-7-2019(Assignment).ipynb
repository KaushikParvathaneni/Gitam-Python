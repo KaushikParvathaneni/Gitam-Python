{
 "cells": [
  {
   "cell_type": "markdown",
   "metadata": {},
   "source": [
    "### 1. The program must accept an integer N as the input. The program must print the fibonacci series in the reverse order as the output."
   ]
  },
  {
   "cell_type": "code",
   "execution_count": 1,
   "metadata": {},
   "outputs": [
    {
     "name": "stdout",
     "output_type": "stream",
     "text": [
      "Enter a number:5\n",
      "[3, 2, 1, 1, 0]\n"
     ]
    }
   ],
   "source": [
    "n = int(input(\"Enter a number:\"))\n",
    "f0=0\n",
    "f1=1\n",
    "k=1\n",
    "l=[]\n",
    "l.append(f0)\n",
    "l.append(f1)\n",
    "while k!=n-1:\n",
    "    f2=f1+f0\n",
    "    l.append(f2)\n",
    "    f0=f1\n",
    "    f1=f2\n",
    "    k=k+1\n",
    "l.reverse()\n",
    "print(l)"
   ]
  },
  {
   "cell_type": "markdown",
   "metadata": {},
   "source": [
    "## Series Generations:-  1, 3, 9, 27, 81, ..."
   ]
  },
  {
   "cell_type": "code",
   "execution_count": 2,
   "metadata": {},
   "outputs": [
    {
     "name": "stdout",
     "output_type": "stream",
     "text": [
      "enter n5\n",
      "1  3  9  27  81  "
     ]
    }
   ],
   "source": [
    "n=int(input(\"enter n\"))\n",
    "for i in range(0,n):\n",
    "    print(3**i,end=\"  \")\n"
   ]
  },
  {
   "cell_type": "markdown",
   "metadata": {},
   "source": [
    "###  Series Generations:-  1, 2, 4, 8, 16, 32, 64, 128, 256, ..."
   ]
  },
  {
   "cell_type": "code",
   "execution_count": 3,
   "metadata": {},
   "outputs": [
    {
     "name": "stdout",
     "output_type": "stream",
     "text": [
      "enter n10\n",
      "1  2  4  8  16  32  64  128  256  512  "
     ]
    }
   ],
   "source": [
    "n=int(input(\"enter n\"))\n",
    "for i in range(0,n):\n",
    "    print(2**i,end=\"  \")"
   ]
  },
  {
   "cell_type": "markdown",
   "metadata": {},
   "source": [
    "### Series Generations:-  1! + 2! + 3! + 4! + 5! + ... + n!"
   ]
  },
  {
   "cell_type": "code",
   "execution_count": 2,
   "metadata": {},
   "outputs": [
    {
     "name": "stdout",
     "output_type": "stream",
     "text": [
      "1 + 2 + 6 + 24 + 120 + 720 + 5040 + 40320 + 362880 + 3628800 + 39916800 + \n",
      "\n",
      "1 ! + 2 ! + 3 ! + 4 ! + 5 ! + 6 ! + 7 ! + 8 ! + 9 ! + 10 ! + 11 ! + "
     ]
    }
   ],
   "source": [
    "\n",
    "def fact(n):\n",
    "    f=1\n",
    "    i=1\n",
    "    while(n+1!=i):\n",
    "         f=f*i\n",
    "         i=i+1\n",
    "    return f\n",
    "fact(5)\n",
    "sum=0\n",
    "for i in range(1,12):\n",
    "    print(fact(i),\"+\",end=\" \")\n",
    "print(\"\\n\")\n",
    "for i in range(1,12):\n",
    "    print(i,\"! +\",end=\" \")"
   ]
  },
  {
   "cell_type": "markdown",
   "metadata": {},
   "source": [
    "###  Your Program has to read one string as well as one character and you need to remove the all the occurance of the character."
   ]
  },
  {
   "cell_type": "code",
   "execution_count": 10,
   "metadata": {},
   "outputs": [
    {
     "name": "stdout",
     "output_type": "stream",
     "text": [
      "Enter string:kaushik\n",
      "Enter removing charcter:a\n",
      "kushik"
     ]
    }
   ],
   "source": [
    "s=input(\"Enter string:\")\n",
    "n=input(\"Enter removing charcter:\")\n",
    "for i in range(len(s)):\n",
    "    if s[i]==n:\n",
    "      s.replace(n,'')\n",
    "    else:\n",
    "         print(s[i],end='')"
   ]
  },
  {
   "cell_type": "markdown",
   "metadata": {},
   "source": [
    "### 5. Your program need to accept a string (alphanuermic) includes white spaces also. The program must print the output in the following way."
   ]
  },
  {
   "cell_type": "code",
   "execution_count": 18,
   "metadata": {},
   "outputs": [
    {
     "name": "stdout",
     "output_type": "stream",
     "text": [
      "TESTINGTEST"
     ]
    }
   ],
   "source": [
    "def wordUpperCase(s):\n",
    "  spaceCnt = 0\n",
    "  for x in range(len(s)):\n",
    "    if ord(s[x])==32:\n",
    "      spaceCnt += 1 #spaceCnt = spaceCnt + 1\n",
    "    if spaceCnt == 1:\n",
    "      if ord(s[x])>=65 and ord(s[x])<=90:\n",
    "        print(s[x],end=\"\")\n",
    "      elif ord(s[x])>=97 and ord(s[x]) <=122:\n",
    "        print(chr(ord(s[x])-32),end=\"\")\n",
    "    if spaceCnt ==2:\n",
    "      return\n",
    "wordUpperCase(\"application Testing\")\n",
    "wordUpperCase(\"anil Test app\")"
   ]
  },
  {
   "cell_type": "markdown",
   "metadata": {},
   "source": [
    "### The program must accept an integer N the input. The program must print the desired pattern as shown in the Example Input/Output section."
   ]
  },
  {
   "cell_type": "code",
   "execution_count": 17,
   "metadata": {},
   "outputs": [
    {
     "name": "stdout",
     "output_type": "stream",
     "text": [
      "Enter a number:14257\n",
      "* \n",
      "\n",
      "* * * * \n",
      "\n",
      "* * \n",
      "\n",
      "* * * * * \n",
      "\n",
      "* * * * * * * \n",
      "\n"
     ]
    }
   ],
   "source": [
    "n=int(input(\"Enter a number:\"))\n",
    "k=0\n",
    "rev=0\n",
    "while(n>0):\n",
    "    dig=n%10\n",
    "    rev=rev*10+dig\n",
    "    n=n//10 \n",
    "n=rev\n",
    "\n",
    "temp = n\n",
    "while n!=0:\n",
    "  \n",
    "  n=n//10\n",
    "  k=k+1\n",
    "  \n",
    "for j in range(k):\n",
    "    r=temp%10\n",
    "    for i in range(1,r+1):\n",
    "        print(\"*\",end=\" \")\n",
    "    print(\"\\n\")\n",
    "    temp=temp//10\n",
    "  "
   ]
  },
  {
   "cell_type": "markdown",
   "metadata": {},
   "source": [
    "### The program must accept a string S as the input. The program print the longest word from the string S as the output. If two or more longest words are of same length then consider the first one."
   ]
  },
  {
   "cell_type": "code",
   "execution_count": 27,
   "metadata": {},
   "outputs": [
    {
     "name": "stdout",
     "output_type": "stream",
     "text": [
      "Enter string:thank you\n",
      "thank"
     ]
    }
   ],
   "source": [
    "n=input(\"Enter string:\")\n",
    "c1=0\n",
    "c2=0\n",
    "for i in range(len(n)):\n",
    "  if ord(n[i])==32:\n",
    "    spacePos=i\n",
    "for j in range(spacePos):\n",
    "  c1=c1+1\n",
    "for k in range(spacePos+1,len(n)):\n",
    "  c2=c2+1\n",
    "if c1>c2:\n",
    "  for m in range(c1):\n",
    "    print(n[m],end='')\n",
    "elif c2>c1:\n",
    "  for z in range(c1,len(n)):\n",
    "    print(n[z],end='')\n",
    "elif c2==c2:\n",
    "  for y in range(c1):\n",
    "    print(n[y],end='')"
   ]
  },
  {
   "cell_type": "markdown",
   "metadata": {},
   "source": [
    "### 9. Your Program need to accept two strings and generate the output in merging of both strings."
   ]
  },
  {
   "cell_type": "code",
   "execution_count": 25,
   "metadata": {},
   "outputs": [
    {
     "name": "stdout",
     "output_type": "stream",
     "text": [
      "Enter string s1:abc\n",
      "Enter string s2:xyz\n",
      "axbycz"
     ]
    }
   ],
   "source": [
    "s1=(input(\"Enter string s1:\"))\n",
    "s2=(input(\"Enter string s2:\"))\n",
    "for i in range(len(s1)):\n",
    "  print(s1[i],end=\"\")\n",
    "  for j in range(i,i+1):\n",
    "    print(s2[j],end='')\n"
   ]
  },
  {
   "cell_type": "markdown",
   "metadata": {},
   "source": [
    "### Series Generations:-  1 3 8 15 27 50 92 169 311"
   ]
  },
  {
   "cell_type": "code",
   "execution_count": 26,
   "metadata": {},
   "outputs": [
    {
     "name": "stdout",
     "output_type": "stream",
     "text": [
      "1 3 8 15 27 50 92 169 311 "
     ]
    }
   ],
   "source": [
    "a=1\n",
    "b=3\n",
    "c=4\n",
    "n=10\n",
    "print(a,b,end=\" \")\n",
    "for i in range(4,n+1):\n",
    "       sum = a+b+c\n",
    "       print(sum,end=\" \")\n",
    "       a = b\n",
    "       b = c\n",
    "       c = sum\n"
   ]
  },
  {
   "cell_type": "markdown",
   "metadata": {},
   "source": [
    "### Series Generations:-  2 15 41 80 132 197 275 366 470 587\n"
   ]
  },
  {
   "cell_type": "code",
   "execution_count": 29,
   "metadata": {},
   "outputs": [
    {
     "name": "stdout",
     "output_type": "stream",
     "text": [
      "2 15 41 80 132 197 275 366 470 587 "
     ]
    }
   ],
   "source": [
    "a=2\n",
    "i=1\n",
    "print(a,end=\" \")\n",
    "while i!=10:\n",
    "  b=a+13*i\n",
    "  print(b,end=\" \")\n",
    "  a=b\n",
    "  i=i+1\n",
    "  "
   ]
  },
  {
   "cell_type": "markdown",
   "metadata": {},
   "source": [
    "### 3. The program must accept two string values S1 and S2. The program must print the pattern as shown in the\n",
    "Example Input/Output sections.\n",
    "\n",
    "Boundary Condition(s):\n",
    "\n",
    "1 <= Length of S1, S2 <= 100\n",
    "\n",
    "Example Input/Output 1:\n",
    "\n",
    "Input:\n",
    "\n",
    "bad water\n",
    "\n",
    "Output:\n",
    "\n",
    "bw\n",
    "\n",
    "aa\n",
    "\n",
    "dt\n",
    "\n",
    "*e\n",
    "\n",
    "*r"
   ]
  },
  {
   "cell_type": "code",
   "execution_count": 1,
   "metadata": {},
   "outputs": [
    {
     "name": "stdout",
     "output_type": "stream",
     "text": [
      "hello\n",
      "dad\n",
      "h d \n",
      "\n",
      "e a \n",
      "\n",
      "l d \n",
      "\n",
      "l * \n",
      "\n",
      "o * \n",
      "\n"
     ]
    }
   ],
   "source": [
    "s1=input(\"\")\n",
    "s2=input(\"\")\n",
    "if len(s1)>len(s2):\n",
    "    while(len(s1)!=len(s2)):\n",
    "        s2=s2+\"*\"\n",
    "        a=len(s2)\n",
    "if len(s1)<len(s2):\n",
    "    while(len(s1)!=len(s2)):\n",
    "        s1=s1+\"*\"\n",
    "        a=len(s1)\n",
    "for i in range(a):\n",
    "    print(s1[i],s2[i],\"\\n\")"
   ]
  },
  {
   "cell_type": "markdown",
   "metadata": {},
   "source": [
    "## Series Generations:-  1,9,17, 33,49,73,97"
   ]
  },
  {
   "cell_type": "code",
   "execution_count": 3,
   "metadata": {},
   "outputs": [
    {
     "name": "stdout",
     "output_type": "stream",
     "text": [
      "7\n",
      "1 9 17 33 49 73 97 "
     ]
    }
   ],
   "source": [
    "k=1\n",
    "su=0\n",
    "no=1\n",
    "n=int(input())\n",
    "x=n//2+1\n",
    "print(\"1\",end=\" \")\n",
    "for i in range (1,x):\n",
    "    su=no+8*k\n",
    "    print(su,end=\" \")\n",
    "    no=su\n",
    "    su=no+8*k\n",
    "    print(su,end=\" \")\n",
    "    no=su\n",
    "    k=k+1\n"
   ]
  },
  {
   "cell_type": "code",
   "execution_count": null,
   "metadata": {},
   "outputs": [],
   "source": []
  }
 ],
 "metadata": {
  "kernelspec": {
   "display_name": "Python 3",
   "language": "python",
   "name": "python3"
  },
  "language_info": {
   "codemirror_mode": {
    "name": "ipython",
    "version": 3
   },
   "file_extension": ".py",
   "mimetype": "text/x-python",
   "name": "python",
   "nbconvert_exporter": "python",
   "pygments_lexer": "ipython3",
   "version": "3.7.3"
  }
 },
 "nbformat": 4,
 "nbformat_minor": 2
}
