{
 "cells": [
  {
   "cell_type": "code",
   "execution_count": 1,
   "metadata": {},
   "outputs": [
    {
     "name": "stdout",
     "output_type": "stream",
     "text": [
      "Enter year\n",
      "2000\n",
      "2000 is not a leap year\n"
     ]
    }
   ],
   "source": [
    "#Leap year or not\n",
    "year = int(input(\"Enter year\\n\"))\n",
    "if year%4==0 and year %100 !=0:\n",
    " print(year, \"is a leap year\")\n",
    "elif year % 100 ==0:\n",
    " print(year, \"is not a leap year\")\n",
    "elif year % 400 ==0:\n",
    " print(year, \"is a leap year\")\n",
    "else: \n",
    " print(year,\"is not a Leap year\")\n"
   ]
  },
  {
   "cell_type": "code",
   "execution_count": 2,
   "metadata": {},
   "outputs": [
    {
     "name": "stdout",
     "output_type": "stream",
     "text": [
      "Enter week day 5\n",
      "Thursday\n"
     ]
    }
   ],
   "source": [
    "#Week Day \n",
    "n=int(input(\"Enter week day \"))\n",
    "if n==1:\n",
    " print(\"Sunday\")\n",
    "elif n==2:\n",
    " print(\"Monday\")\n",
    "elif n==3:\n",
    " print(\"Tuesday\")\n",
    "elif n==4:\n",
    " print(\"Wednesday\")\n",
    "elif n==5:\n",
    " print(\"Thursday\")\n",
    "elif n==6:\n",
    " print(\"Friday\")\n",
    "elif n==7:\n",
    " print(\"Saturday\")\n",
    "else:\n",
    " print(\"Invalid week number\")"
   ]
  },
  {
   "cell_type": "code",
   "execution_count": 3,
   "metadata": {},
   "outputs": [
    {
     "name": "stdout",
     "output_type": "stream",
     "text": [
      "Enter num 1:5\n",
      "Enter num 2:6\n",
      "Enter num 3:7\n",
      "7  is largest\n"
     ]
    }
   ],
   "source": [
    "#largest of 3 numbers\n",
    "a=int(input(\"Enter num 1:\"))\n",
    "b=int(input(\"Enter num 2:\"))\n",
    "c=int(input(\"Enter num 3:\"))\n",
    "if a>b and a>c:\n",
    " print(a,\" is largest\")\n",
    "elif b>a and b>c:\n",
    " print(b,\" is largest\")\n",
    "elif c>a and c>b:\n",
    " print(c,\" is largest\")"
   ]
  },
  {
   "cell_type": "code",
   "execution_count": 4,
   "metadata": {},
   "outputs": [
    {
     "name": "stdout",
     "output_type": "stream",
     "text": [
      "enter a number:10\n",
      "55\n"
     ]
    }
   ],
   "source": [
    "#Sum of n numbers\n",
    "n = int(input(\"enter a number:\"))\n",
    "sum=0\n",
    "for i in range(n+1):\n",
    " sum=sum+i\n",
    "print(sum)"
   ]
  },
  {
   "cell_type": "code",
   "execution_count": 7,
   "metadata": {},
   "outputs": [
    {
     "name": "stdout",
     "output_type": "stream",
     "text": [
      "enter a number:10\n",
      "sum is 25\n"
     ]
    }
   ],
   "source": [
    "#sum of n odd numbers\n",
    "n = int(input(\"enter a number:\"))\n",
    "sum=0\n",
    "for i in range(1,n+1,2):\n",
    " sum=sum+i\n",
    "print(\"sum is\",sum)\n",
    "\n"
   ]
  },
  {
   "cell_type": "code",
   "execution_count": 9,
   "metadata": {},
   "outputs": [
    {
     "name": "stdout",
     "output_type": "stream",
     "text": [
      "Enter a number:10\n",
      "sum is  55\n",
      "avg is  5.5\n"
     ]
    }
   ],
   "source": [
    "#sum of given series of numbers and their avg\n",
    "n = int(input(\"Enter a number:\"))\n",
    "sum=0\n",
    "avg=0\n",
    "for i in range(n+1):\n",
    " sum=sum+i\n",
    "avg=sum/n\n",
    "print(\"sum is \",sum)\n",
    "print(\"avg is \",avg)"
   ]
  },
  {
   "cell_type": "code",
   "execution_count": 11,
   "metadata": {},
   "outputs": [
    {
     "name": "stdout",
     "output_type": "stream",
     "text": [
      "Enter coeff of x^2:1\n",
      "Enter coeff of x:5\n",
      "Enter constant:6\n",
      "the roots are -2.0 -3.0\n"
     ]
    }
   ],
   "source": [
    "#7 roots of quadratic equation\n",
    "import math\n",
    "a = int(input(\"Enter coeff of x^2:\"))\n",
    "b = int(input(\"Enter coeff of x:\"))\n",
    "c = int(input(\"Enter constant:\"))\n",
    "p=(-b+math.sqrt(b*b-4*a*c))/2*a\n",
    "q=(-b-math.sqrt(b*b-4*a*c))/2*a\n",
    "if b*b-4*a*c >=0:\n",
    " print(\"the roots are\",p,q)\n",
    "else:\n",
    " print(\"roots are imaginary\")\n",
    "  "
   ]
  },
  {
   "cell_type": "code",
   "execution_count": 12,
   "metadata": {},
   "outputs": [
    {
     "name": "stdout",
     "output_type": "stream",
     "text": [
      "Enter a number:10\n",
      "1\n",
      "2\n",
      "5\n",
      "10\n"
     ]
    }
   ],
   "source": [
    "#8 divisors of all numbers\n",
    "n = int(input(\"Enter a number:\"))\n",
    "for i in range(1,n+1):\n",
    " if n%i==0:\n",
    "   print(i)\n",
    "   i=i+1\n",
    " else:\n",
    "   i=i+1"
   ]
  },
  {
   "cell_type": "code",
   "execution_count": 13,
   "metadata": {},
   "outputs": [
    {
     "name": "stdout",
     "output_type": "stream",
     "text": [
      "enter side1:10\n",
      "enter side2:5\n",
      "enter side3:7\n",
      "Triangle is valid\n"
     ]
    }
   ],
   "source": [
    "#9 Triangle is valid or not\n",
    "a = int(input(\"enter side1:\"))\n",
    "b = int(input(\"enter side2:\"))\n",
    "c = int(input(\"enter side3:\"))\n",
    "if a+b>c or a+c>b or b+c>a:\n",
    " print(\"Triangle is valid\")\n",
    "else:\n",
    " print(\"Triangle is not valid\")"
   ]
  },
  {
   "cell_type": "code",
   "execution_count": 14,
   "metadata": {},
   "outputs": [
    {
     "name": "stdout",
     "output_type": "stream",
     "text": [
      "Enter Celsius value:100\n",
      "212.0 degrees farh\n"
     ]
    }
   ],
   "source": [
    "#10 celsis to f\n",
    "c = int(input(\"Enter Celsius value:\"))\n",
    "f = 1.8 * c +32\n",
    "print(f,\"degrees farh\")"
   ]
  },
  {
   "cell_type": "code",
   "execution_count": null,
   "metadata": {},
   "outputs": [],
   "source": []
  }
 ],
 "metadata": {
  "kernelspec": {
   "display_name": "Python 3",
   "language": "python",
   "name": "python3"
  },
  "language_info": {
   "codemirror_mode": {
    "name": "ipython",
    "version": 3
   },
   "file_extension": ".py",
   "mimetype": "text/x-python",
   "name": "python",
   "nbconvert_exporter": "python",
   "pygments_lexer": "ipython3",
   "version": "3.7.3"
  }
 },
 "nbformat": 4,
 "nbformat_minor": 2
}
